{
 "cells": [
  {
   "cell_type": "markdown",
   "metadata": {},
   "source": [
    "# Ensembl REST API course\n",
    "\n",
    "Welcome to the Ensembl REST API course. This Jupyter notebook contains all you need to complete this course, including sample code, space to write your own code and sample answers, which can all be run within the notebook in Python.\n",
    "\n",
    "To run the code within a cell, select it and hit Run.\n",
    "\n",
    "## REST calls in the browser\n",
    "\n",
    "Our first REST call will be the [ping call](http://rest.ensembl.org/documentation/info/ping) which checks your connection to the database:\n",
    "\n",
    "[http://rest.ensembl.org/info/ping?content-type=application/json](http://rest.ensembl.org/info/ping?content-type=application/json)\n",
    "\n",
    "Our next call will [get information about a gene](http://rest.ensembl.org/documentation/info/lookup), using the Ensembl gene ID:\n",
    "\n",
    "[http://rest.ensembl.org/lookup/id/ENSG00000157764?content-type=application/json](http://rest.ensembl.org/lookup/id/ENSG00000157764?content-type=application/json)\n",
    "\n",
    "## Exercises\n",
    "\n",
    "The first set of exercises just use URLs in the browser. You cannot do these within the Python notebook, however we have provided a box where you can note them down.\n",
    "\n",
    "1. Find an endpoint which you can use to lookup information about a gene using its symbol.\n",
    "2. Create a URL to find information about the gene IRAK4 in human.\n",
    "3. Expand your results to include information about transcripts.\n",
    "\n",
    "Answers:"
   ]
  },
  {
   "cell_type": "markdown",
   "metadata": {},
   "source": [
    "1. "
   ]
  },
  {
   "cell_type": "markdown",
   "metadata": {},
   "source": [
    "2. "
   ]
  },
  {
   "cell_type": "markdown",
   "metadata": {},
   "source": [
    "3. "
   ]
  },
  {
   "cell_type": "markdown",
   "metadata": {},
   "source": [
    "[Next page: Making requests with Python](2_Making_requests_with_python.ipynb)"
   ]
  }
 ],
 "metadata": {
  "kernelspec": {
   "display_name": "Python 3",
   "language": "python",
   "name": "python3"
  },
  "language_info": {
   "codemirror_mode": {
    "name": "ipython",
    "version": 3
   },
   "file_extension": ".py",
   "mimetype": "text/x-python",
   "name": "python",
   "nbconvert_exporter": "python",
   "pygments_lexer": "ipython3",
   "version": "3.7.6"
  }
 },
 "nbformat": 4,
 "nbformat_minor": 2
}
