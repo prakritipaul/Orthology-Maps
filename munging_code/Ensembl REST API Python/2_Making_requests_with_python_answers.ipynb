{
 "cells": [
  {
   "cell_type": "markdown",
   "metadata": {},
   "source": [
    "# Exercises 2 – answers\n",
    "\n",
    "1. Write a script to **lookup** the gene called *IRAK4* in human and print the results in json."
   ]
  },
  {
   "cell_type": "code",
   "execution_count": 5,
   "metadata": {},
   "outputs": [
    {
     "name": "stdout",
     "output_type": "stream",
     "text": [
      "{'data': [{'homologies': [{'dn_ds': None,\n",
      "                           'method_link_type': 'ENSEMBL_ORTHOLOGUES',\n",
      "                           'source': {'align_seq': 'MLMLRSIRKMS---------HQCSIEAFNKVINTTEEKLKILRQNIAIAKQDVTISLAKSMESRLEGENIELQKQVAGLKRKLCEAEVANGTKQISIT------------------------SPV----------NQPQTVIEKVEKVKDVLVKNKSKEVKEKKKNNPKVKPEQNSEVTVSKLDFRVGKIVSVQHHPDADSLYLEQIDVGEDKTRTVVTGVVKHIPIHEMENRSVVVMCNLKPAKMRGILSQAMVMCANTTEKVEIIDPPKDAVPGDKVSFEGYDGEPDSMLNPKKKVFEKIQPDLNTDNNCVACYRGVPFTIKGKGVCKVKTMKNSSIK',\n",
      "                                      'cigar_line': '11M9D78M24D3M10D205M',\n",
      "                                      'id': 'ENSCING00000021899',\n",
      "                                      'perc_id': 46.8013,\n",
      "                                      'perc_pos': 65.9933,\n",
      "                                      'protein_id': 'ENSCINP00000032636',\n",
      "                                      'species': 'ciona_intestinalis',\n",
      "                                      'taxon_id': 7719},\n",
      "                           'target': {'align_seq': 'MFLVRSLFKMSGHTPSLMRLEQKAAEA-EQII-------EYLKQQVQLLKEKAIVQATLKEEKKLMVENAKLKKDIEELKKQLLDKEKMRGVIDV--PSTELSVQCVSKPTSADPPVSASPS---AASSKTPSAKNNDEAKKMKAEKK--------G-E-KKEKK--AAAPPQEDAKVDVSRLDLRVGRIISAEKHPDADSLYVEQVDVGEAAPRTVVSGLVKHIPLDQMQNRMAVLLCNLKPAKMRGVLSQAMVMCASSPEKVEILDPPSGAAAGDRITFQGFPGEPDKELNPKKKVWEQVQPDLLTDDQCVATYKGVAFEVTGKGVCKAQTMSKSGIK',\n",
      "                                      'cigar_line': '27MD4M7D56M2D25M3D23M8DMDMD5M2D173M',\n",
      "                                      'id': 'ENSDARG00000060036',\n",
      "                                      'perc_id': 44.127,\n",
      "                                      'perc_pos': 62.2222,\n",
      "                                      'protein_id': 'ENSDARP00000078619',\n",
      "                                      'species': 'danio_rerio',\n",
      "                                      'taxon_id': 7955},\n",
      "                           'taxonomy_level': 'Chordata',\n",
      "                           'type': 'ortholog_one2many'},\n",
      "                          {'dn_ds': None,\n",
      "                           'method_link_type': 'ENSEMBL_ORTHOLOGUES',\n",
      "                           'source': {'align_seq': '---------------------------------------------MLMLRSIRKMS--------HQCSIEAFNKVINTTEEKLKILRQNIAIAKQDVTISLAKSMESRLEGENIELQKQVAGLKRKLCEAEVANG-----TKQI---SIT---------------SPV--NQPQTVIEKVEKVKDVLVKNKSKEVKEKKK----NNPKVKPEQNSEVTVSKLDFRVGKIVSVQHHPDADSLYLEQIDVGEDKTRTVVTGVVKHIPIHEMENRSVVVMCNLKPAKMRGILSQAMVMCANTTEKVEIIDPPKDAVPGDKVSFEGYDGEPDSMLNPKKKVFEKIQPDLNTDNNCVACYRGVPFTIKGKGVCKV-KTMKNSSIK',\n",
      "                                      'cigar_line': '45D11M8D71M5D4M3D3M15D3M2D30M4D166MD9M',\n",
      "                                      'id': 'ENSCING00000021899',\n",
      "                                      'perc_id': 28.6195,\n",
      "                                      'perc_pos': 51.5152,\n",
      "                                      'protein_id': 'ENSCINP00000032636',\n",
      "                                      'species': 'ciona_intestinalis',\n",
      "                                      'taxon_id': 7719},\n",
      "                           'target': {'align_seq': 'MILHTHTHTHTHTHAAAPLLEHTHGSQLKICSLFDINNREYPPQQMS--------KDKPPTSRADPPQQEQ---MM-------EYFTQQILFLKEKAMLQASVREEKKLLVENAKLKKDIDDLKNLLQDTQKRKAVKLRQERALSASIASTSAQLGEPAPSTHTAPS-ATQTHAHTHHD-GRR----------R-R-ERRGVSCE-SVCVLSREQKLDVSRLDLRVARILDVRKHPDSESLYVQEVELGEHAPRTVVSGLTNHVPPEQLLGSLVVLLCNVRSVKVRGVQSQARLLCAVNQERMEPLTPPTGAQPGDRVTFQLYPGEPEKELNPKQRLWERLLPDLRIDARGVATYRGVAFEVRGKGLCRAP-NITSGNIK',\n",
      "                                      'cigar_line': '47M8D16M3D2M7D84MD11MD3M10DMDMD8MD165MD8M',\n",
      "                                      'id': 'ENSDARG00000036894',\n",
      "                                      'perc_id': 24.5665,\n",
      "                                      'perc_pos': 44.2197,\n",
      "                                      'protein_id': 'ENSDARP00000124114',\n",
      "                                      'species': 'danio_rerio',\n",
      "                                      'taxon_id': 7955},\n",
      "                           'taxonomy_level': 'Chordata',\n",
      "                           'type': 'ortholog_one2many'}],\n",
      "           'id': 'ENSCING00000021899'}]}\n"
     ]
    }
   ],
   "source": [
    "#!/usr/bin/env python\n",
    "\n",
    "# Get modules needed for script\n",
    "import sys, requests, json\n",
    "from pprint import pprint\n",
    "\n",
    "def fetch_endpoint(server, request, content_type):\n",
    "\n",
    "    r = requests.get(server+request, headers={ \"Content-Type\" : content_type})\n",
    "\n",
    "    if not r.ok:\n",
    "        r.raise_for_status()\n",
    "        sys.exit()\n",
    "\n",
    "    if content_type == 'application/json':\n",
    "        return r.json()\n",
    "    else:\n",
    "        return r.text\n",
    "\n",
    "# define the gene name\n",
    "gene_name = \"ENSCING00000021899\"\n",
    "\n",
    "# define the general URL parameters\n",
    "server = \"http://rest.ensembl.org/\"\n",
    "\n",
    "# define REST query to get the gene ID from the gene name\n",
    "ext_get_lookup = \"homology/symbol/ciona_intestinalis/\" + gene_name + \"?target_species=danio_rerio\"\n",
    "\n",
    "# define the content type\n",
    "con = \"application/json\"\n",
    "\n",
    "# submit the query\n",
    "get_lookup = fetch_endpoint(server, ext_get_lookup, con)\n",
    "\n",
    "pprint(get_lookup)"
   ]
  },
  {
   "cell_type": "markdown",
   "metadata": {},
   "source": [
    "[Next page: Using results](3_Using_results.ipynb)"
   ]
  }
 ],
 "metadata": {
  "kernelspec": {
   "display_name": "Python 3",
   "language": "python",
   "name": "python3"
  },
  "language_info": {
   "codemirror_mode": {
    "name": "ipython",
    "version": 3
   },
   "file_extension": ".py",
   "mimetype": "text/x-python",
   "name": "python",
   "nbconvert_exporter": "python",
   "pygments_lexer": "ipython3",
   "version": "3.7.6"
  }
 },
 "nbformat": 4,
 "nbformat_minor": 2
}
