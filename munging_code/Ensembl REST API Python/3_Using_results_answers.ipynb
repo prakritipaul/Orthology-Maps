{
 "cells": [
  {
   "cell_type": "markdown",
   "metadata": {},
   "source": [
    "## Exercises 3 – answers\n",
    "\n",
    "1\\. Write a script to lookup the gene called IRAK4 in human and print the stable ID of this gene."
   ]
  },
  {
   "cell_type": "code",
   "execution_count": null,
   "metadata": {},
   "outputs": [],
   "source": [
    "import requests, sys, json\n",
    "\n",
    "def fetch_endpoint(server, request, content_type):\n",
    "\n",
    "    r = requests.get(server+request, headers={ \"Content-Type\" : content_type})\n",
    "\n",
    "    if not r.ok:\n",
    "        r.raise_for_status()\n",
    "        sys.exit()\n",
    "\n",
    "    if content_type == 'application/json':\n",
    "        return r.json()\n",
    "    else:\n",
    "        return r.text\n",
    "\n",
    "# Get the gene name from the command line\n",
    "gene_name = \"IRAK4\"\n",
    "\n",
    "# define the general URL parameters\n",
    "server = \"http://rest.ensembl.org/\"\n",
    "con = \"application/json\"\n",
    "ext_get_lookup = \"lookup/symbol/homo_sapiens/\" + gene_name + \"?\"\n",
    "\n",
    "# submit the query\n",
    "get_lookup = fetch_endpoint(server, ext_get_lookup, con)\n",
    "\n",
    "print (get_lookup['id'])"
   ]
  },
  {
   "cell_type": "markdown",
   "metadata": {},
   "source": [
    "2\\. Get all variants that are associated with the phenotype 'Coffee consumption'. For each variant print:\n",
    "\n",
    "   a. the p-value for the association\n",
    "   \n",
    "   b. the PMID for the publication which describes the association between that variant and ‘Coffee consumption’\n",
    "   \n",
    "   c. the risk allele and the associated gene."
   ]
  },
  {
   "cell_type": "code",
   "execution_count": null,
   "metadata": {},
   "outputs": [],
   "source": [
    "import requests, sys, json\n",
    "\n",
    "def fetch_endpoint(server, request, content_type):\n",
    "\n",
    "    r = requests.get(server+request, headers={ \"Content-Type\" : content_type})\n",
    "\n",
    "    if not r.ok:\n",
    "        r.raise_for_status()\n",
    "        sys.exit()\n",
    "\n",
    "    if content_type == 'application/json':\n",
    "        return r.json()\n",
    "    else:\n",
    "        return r.text\n",
    "\n",
    "print (\"Variant\\tp-value\\tPub-med ID\\tRisk allele\\tGene\")\n",
    "\n",
    "# define the general URL parameters\n",
    "server = \"http://rest.ensembl.org/\"\n",
    "ext_phen = \"/phenotype/term/homo_sapiens/coffee consumption?\"\n",
    "con = \"application/json\"\n",
    "\n",
    "# submit the query\n",
    "get_phen = fetch_endpoint(server, ext_phen, con)\n",
    "\n",
    "for variant in get_phen:\n",
    "    id = variant['Variation']\n",
    "    pv = str(variant['attributes'].get('p_value'))\n",
    "    pmid = variant['attributes']['external_reference']\n",
    "    risk = str(variant['attributes'].get('risk_allele'))\n",
    "    gene = variant['attributes']['associated_gene']\n",
    " \n",
    "    print (id + \"\\t\" + pv + \"\\t\" + pmid + \"\\t\" + risk + \"\\t\" + gene)"
   ]
  },
  {
   "cell_type": "markdown",
   "metadata": {},
   "source": [
    "3\\. Get the mouse homologue of the human BRCA2 and print the ID and the aligned sequence of both.\n",
    "\n",
    "Note that the JSON for the endpoint you need is several layers deep, containing nested lists (appear as square brackets [ ] in the JSON) and key value sets (appear as curly brackets { } in the JSON)."
   ]
  },
  {
   "cell_type": "code",
   "execution_count": null,
   "metadata": {},
   "outputs": [],
   "source": [
    "import requests, sys, json\n",
    "\n",
    "def fetch_endpoint(server, request, content_type):\n",
    "\n",
    "    r = requests.get(server+request, headers={ \"Content-Type\" : content_type})\n",
    "\n",
    "    if not r.ok:\n",
    "        r.raise_for_status()\n",
    "        sys.exit()\n",
    "\n",
    "    if content_type == 'application/json':\n",
    "        return r.json()\n",
    "    else:\n",
    "        return r.text\n",
    "\n",
    "gene = \"BRCA2\"\n",
    "\n",
    "# define the general URL parameters\n",
    "server = \"http://rest.ensembl.org/\"\n",
    "ext_hom = \"homology/symbol/human/\" + gene + \"?target_species=mouse\"\n",
    "con = \"application/json\"\n",
    "\n",
    "get_hom = fetch_endpoint(server, ext_hom, con)\n",
    "\n",
    "hum_id = get_hom['data'][0]['homologies'][0]['source']['id']\n",
    "hum_seq = get_hom['data'][0]['homologies'][0]['source']['align_seq']\n",
    "\n",
    "mou_id = get_hom['data'][0]['homologies'][0]['target']['id']\n",
    "mou_seq = get_hom['data'][0]['homologies'][0]['target']['align_seq']\n",
    "\n",
    "print (\">\", hum_id + \"\\n\" + hum_seq + \"\\n>\", mou_id + \"\\n\" + mou_seq)"
   ]
  },
  {
   "cell_type": "markdown",
   "metadata": {},
   "source": [
    "[Next page: Other content types](4_Other_content_types.ipynb)"
   ]
  }
 ],
 "metadata": {
  "kernelspec": {
   "display_name": "Python 3",
   "language": "python",
   "name": "python3"
  },
  "language_info": {
   "codemirror_mode": {
    "name": "ipython",
    "version": 3
   },
   "file_extension": ".py",
   "mimetype": "text/x-python",
   "name": "python",
   "nbconvert_exporter": "python",
   "pygments_lexer": "ipython3",
   "version": "3.5.4"
  }
 },
 "nbformat": 4,
 "nbformat_minor": 2
}
