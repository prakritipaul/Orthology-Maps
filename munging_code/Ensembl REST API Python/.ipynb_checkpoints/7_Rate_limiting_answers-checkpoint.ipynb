{
 "cells": [
  {
   "cell_type": "markdown",
   "metadata": {},
   "source": [
    "## Exercises 7 – answers\n",
    "\n",
    "1\\. Write a script to query the ping endpoint 25 times, for each loop iteration print the count, the HTTP Status Code, and the X-RateLimit-Remaining header. (Hint: Look at the requests documentation.)"
   ]
  },
  {
   "cell_type": "code",
   "execution_count": null,
   "metadata": {},
   "outputs": [],
   "source": [
    "import requests, sys, time\n",
    "\n",
    "server = \"http://rest.ensembl.org/\"\n",
    "con = \"application/json\"\n",
    "ext_ping = \"/info/ping?\"\n",
    "\n",
    "x = 0\n",
    "\n",
    "while x < 25:\n",
    "\n",
    "    # submit the query\n",
    "    ping = requests.get(server+ext_ping, headers={ \"Content-Type\" : con})\n",
    "    x += 1\n",
    "    print (\"count:\", x, \"status:\", ping.status_code, \"remaining:\", ping.headers['X-RateLimit-Remaining'])"
   ]
  },
  {
   "cell_type": "markdown",
   "metadata": {},
   "source": [
    "2\\. Do you notice anything odd with the count as the whole class is running their scripts? What happens to the status code if you increase the number of loops to 100?\n",
    "\n",
    "Change the number in the while loop above to \"100\".\n",
    "\n",
    "You should start getting 429 (Too Many Requests) error codes every 15-ish queries."
   ]
  }
 ],
 "metadata": {
  "kernelspec": {
   "display_name": "Python 3",
   "language": "python",
   "name": "python3"
  },
  "language_info": {
   "codemirror_mode": {
    "name": "ipython",
    "version": 3
   },
   "file_extension": ".py",
   "mimetype": "text/x-python",
   "name": "python",
   "nbconvert_exporter": "python",
   "pygments_lexer": "ipython3",
   "version": "3.5.4"
  }
 },
 "nbformat": 4,
 "nbformat_minor": 2
}
