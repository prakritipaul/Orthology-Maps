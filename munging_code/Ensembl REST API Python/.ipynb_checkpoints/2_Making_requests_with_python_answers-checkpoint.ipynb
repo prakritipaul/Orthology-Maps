{
 "cells": [
  {
   "cell_type": "markdown",
   "metadata": {},
   "source": [
    "# Exercises 2 – answers\n",
    "\n",
    "1. Write a script to **lookup** the gene called *IRAK4* in human and print the results in json."
   ]
  },
  {
   "cell_type": "code",
   "execution_count": null,
   "metadata": {},
   "outputs": [],
   "source": [
    "#!/usr/bin/env python\n",
    "\n",
    "# Get modules needed for script\n",
    "import sys, requests, json\n",
    "\n",
    "def fetch_endpoint(server, request, content_type):\n",
    "\n",
    "    r = requests.get(server+request, headers={ \"Content-Type\" : content_type})\n",
    "\n",
    "    if not r.ok:\n",
    "        r.raise_for_status()\n",
    "        sys.exit()\n",
    "\n",
    "    if content_type == 'application/json':\n",
    "        return r.json()\n",
    "    else:\n",
    "        return r.text\n",
    "\n",
    "# define the gene name\n",
    "gene_name = \"IRAK4\"\n",
    "\n",
    "# define the general URL parameters\n",
    "server = \"http://rest.ensembl.org/\"\n",
    "\n",
    "# define REST query to get the gene ID from the gene name\n",
    "ext_get_lookup = \"lookup/symbol/homo_sapiens/\" + gene_name + \"?\"\n",
    "\n",
    "# define the content type\n",
    "con = \"application/json\"\n",
    "\n",
    "# submit the query\n",
    "get_lookup = fetch_endpoint(server, ext_get_lookup, con)\n",
    "\n",
    "print (get_lookup)"
   ]
  },
  {
   "cell_type": "markdown",
   "metadata": {},
   "source": [
    "[Next page: Using results](3_Using_results.ipynb)"
   ]
  }
 ],
 "metadata": {
  "kernelspec": {
   "display_name": "Python 3",
   "language": "python",
   "name": "python3"
  },
  "language_info": {
   "codemirror_mode": {
    "name": "ipython",
    "version": 3
   },
   "file_extension": ".py",
   "mimetype": "text/x-python",
   "name": "python",
   "nbconvert_exporter": "python",
   "pygments_lexer": "ipython3",
   "version": "3.5.4"
  }
 },
 "nbformat": 4,
 "nbformat_minor": 2
}
