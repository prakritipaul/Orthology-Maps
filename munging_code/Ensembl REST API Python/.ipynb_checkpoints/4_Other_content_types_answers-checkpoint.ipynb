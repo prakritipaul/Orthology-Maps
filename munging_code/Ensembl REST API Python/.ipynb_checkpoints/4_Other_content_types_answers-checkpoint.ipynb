{
 "cells": [
  {
   "cell_type": "markdown",
   "metadata": {},
   "source": [
    "## Exercises 4 – answers \n",
    "\n",
    "1\\. Get the gene tree predicted for the gene ENSG00000189221 in full nh format. "
   ]
  },
  {
   "cell_type": "code",
   "execution_count": null,
   "metadata": {},
   "outputs": [],
   "source": [
    "import requests, sys, json\n",
    "\n",
    "def fetch_endpoint(server, request, content_type):\n",
    "\n",
    "    r = requests.get(server+request, headers={ \"Content-Type\" : content_type})\n",
    "\n",
    "    if not r.ok:\n",
    "        r.raise_for_status()\n",
    "        sys.exit()\n",
    "\n",
    "    if content_type == 'application/json':\n",
    "        return r.json()\n",
    "    else:\n",
    "        return r.text\n",
    "\n",
    "gene_id = \"ENSG00000189221\"\n",
    "\n",
    "# define the general URL parameters\n",
    "server = \"http://rest.ensembl.org/\"\n",
    "ext_gt = \"genetree/member/id/\" + gene_id + \"?nh_format=full;\"\n",
    "gt_content_type = \"text/x-nh\"\n",
    "get_gt = fetch_endpoint(server, ext_gt, gt_content_type)\n",
    "\n",
    "print (get_gt)"
   ]
  },
  {
   "cell_type": "markdown",
   "metadata": {},
   "source": [
    "2\\. Get the sequence of the gene ENSG00000157764 in FASTA."
   ]
  },
  {
   "cell_type": "code",
   "execution_count": null,
   "metadata": {},
   "outputs": [],
   "source": [
    "import requests, sys, json\n",
    "\n",
    "def fetch_endpoint(server, request, content_type):\n",
    "\n",
    "    r = requests.get(server+request, headers={ \"Content-Type\" : content_type})\n",
    "\n",
    "    if not r.ok:\n",
    "        r.raise_for_status()\n",
    "        sys.exit()\n",
    "\n",
    "    if content_type == 'application/json':\n",
    "        return r.json()\n",
    "    else:\n",
    "        return r.text\n",
    "\n",
    "gene = \"ENSG00000157764\"\n",
    "server = \"http://rest.ensembl.org/\"\n",
    "ext_get_seq = \"/sequence/id/\" + gene + \"?\";\n",
    "\n",
    "get_seq = fetch_endpoint(server, ext_get_seq, \"text/x-fasta\")\n",
    "\n",
    "# print the gene name, ID and sequence\n",
    "print (get_seq)"
   ]
  },
  {
   "cell_type": "markdown",
   "metadata": {},
   "source": [
    "[Next page: Linking endpoints together](5_Linking_endpoints_together.ipynb)"
   ]
  }
 ],
 "metadata": {
  "kernelspec": {
   "display_name": "Python 3",
   "language": "python",
   "name": "python3"
  },
  "language_info": {
   "codemirror_mode": {
    "name": "ipython",
    "version": 3
   },
   "file_extension": ".py",
   "mimetype": "text/x-python",
   "name": "python",
   "nbconvert_exporter": "python",
   "pygments_lexer": "ipython3",
   "version": "3.5.4"
  }
 },
 "nbformat": 4,
 "nbformat_minor": 2
}
