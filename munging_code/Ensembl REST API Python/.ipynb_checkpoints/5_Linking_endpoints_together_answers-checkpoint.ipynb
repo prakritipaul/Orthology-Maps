{
 "cells": [
  {
   "cell_type": "markdown",
   "metadata": {},
   "source": [
    "## Exercises 5 - answers\n",
    "\n",
    "1\\. Using the script from 3.1, add a call to fetch and print the sequence for the gene IRAK4 in FASTA."
   ]
  },
  {
   "cell_type": "code",
   "execution_count": null,
   "metadata": {},
   "outputs": [],
   "source": [
    "import requests, sys, json\n",
    "\n",
    "def fetch_endpoint(server, request, content_type):\n",
    "\n",
    "    r = requests.get(server+request, headers={ \"Content-Type\" : content_type})\n",
    "\n",
    "    if not r.ok:\n",
    "        r.raise_for_status()\n",
    "        sys.exit()\n",
    "\n",
    "    if content_type == 'application/json':\n",
    "        return r.json()\n",
    "    else:\n",
    "        return r.text\n",
    "\n",
    "# Get the gene name\n",
    "gene_name = \"IRAK4\"\n",
    "\n",
    "# define the general URL parameters\n",
    "server = \"http://rest.ensembl.org/\"\n",
    "con = \"application/json\"\n",
    "ext_get_lookup = \"lookup/symbol/homo_sapiens/\" + gene_name + \"?\"\n",
    "\n",
    "# submit the query\n",
    "get_lookup = fetch_endpoint(server, ext_get_lookup, con)\n",
    "\n",
    "# define the REST query to get the sequence from the gene\n",
    "ext_get_seq = '/sequence/id/' + get_lookup['id'] + '?';\n",
    "get_seq = fetch_endpoint(server, ext_get_seq, 'text/x-fasta')\n",
    "\n",
    "# print the gene name, ID and sequence\n",
    "print ('>', gene_name, '\\n'+get_seq)"
   ]
  },
  {
   "cell_type": "markdown",
   "metadata": {},
   "source": [
    "2\\. Print the stable ID of any regulatory features that overlap the region 1000 bp upstream of the ESPN gene. (Hints: get the gene ID first, then check the strand of the gene to see which way is upstream.)"
   ]
  },
  {
   "cell_type": "code",
   "execution_count": null,
   "metadata": {},
   "outputs": [],
   "source": [
    "import requests, sys, json\n",
    "\n",
    "def fetch_endpoint(server, request, content_type):\n",
    "\n",
    "    r = requests.get(server+request, headers={ \"Content-Type\" : content_type})\n",
    "\n",
    "    if not r.ok:\n",
    "        r.raise_for_status()\n",
    "        sys.exit()\n",
    "\n",
    "    if content_type == 'application/json':\n",
    "        return r.json()\n",
    "    else:\n",
    "        return r.text\n",
    "\n",
    "server = \"http://rest.ensembl.org/\"\n",
    "con = \"application/json\"\n",
    "\n",
    "gene_name = \"ESPN\"\n",
    "ext_get_lookup = \"lookup/symbol/homo_sapiens/\" + gene_name + \"?\"\n",
    "get_lookup = fetch_endpoint(server, ext_get_lookup, con)\n",
    "\n",
    "if get_lookup['strand'] == 1:\n",
    "    locus = str(get_lookup['seq_region_name']) + \":\" + str(get_lookup['start'] - 1000) + \"-\" + str(get_lookup['start'])\n",
    "\n",
    "else:\n",
    "    locus =  str(get_lookup['seq_region_name']) + \":\" + str(get_lookup['end']) + \"-\" + str(get_lookup['end'] + 1000)\n",
    "\n",
    "overlap_ext = \"overlap/region/human/\" + locus + \"?feature=regulatory;\"\n",
    "\n",
    "get_overlap = fetch_endpoint(server, overlap_ext, con)\n",
    "\n",
    "for rf in get_overlap:\n",
    "    id = rf['id']\n",
    "    print (id)"
   ]
  },
  {
   "cell_type": "markdown",
   "metadata": {},
   "source": [
    "[Next page: Using POST](6_Using_POST.ipynb)"
   ]
  }
 ],
 "metadata": {
  "kernelspec": {
   "display_name": "Python 3",
   "language": "python",
   "name": "python3"
  },
  "language_info": {
   "codemirror_mode": {
    "name": "ipython",
    "version": 3
   },
   "file_extension": ".py",
   "mimetype": "text/x-python",
   "name": "python",
   "nbconvert_exporter": "python",
   "pygments_lexer": "ipython3",
   "version": "3.5.4"
  }
 },
 "nbformat": 4,
 "nbformat_minor": 2
}
