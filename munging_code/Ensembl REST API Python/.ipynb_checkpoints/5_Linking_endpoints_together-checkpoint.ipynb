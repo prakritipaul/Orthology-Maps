{
 "cells": [
  {
   "cell_type": "markdown",
   "metadata": {},
   "source": [
    "# Linking endpoints together\n",
    "\n",
    "If you can pull a datapoint from the json, you can use it as input for another endpoint.\n",
    "\n",
    "## Exercises 5\n",
    "\n",
    "1\\. Using the script from 3.1, add a call to fetch and print the sequence for the gene IRAK4 in FASTA."
   ]
  },
  {
   "cell_type": "code",
   "execution_count": null,
   "metadata": {},
   "outputs": [],
   "source": [
    "# Exercise 5.1"
   ]
  },
  {
   "cell_type": "markdown",
   "metadata": {},
   "source": [
    "2\\. Print the stable ID of any regulatory features that overlap the region 1000 bp upstream of the ESPN gene. (Hints: get the gene ID first, then check the strand of the gene to see which way is upstream.)"
   ]
  },
  {
   "cell_type": "code",
   "execution_count": null,
   "metadata": {},
   "outputs": [],
   "source": [
    "# Exercise 5.2"
   ]
  },
  {
   "cell_type": "markdown",
   "metadata": {},
   "source": [
    "[Next page: Exercises 5 - answers](5_Linking_endpoints_together_answers.ipynb)"
   ]
  }
 ],
 "metadata": {
  "kernelspec": {
   "display_name": "Python 3",
   "language": "python",
   "name": "python3"
  },
  "language_info": {
   "codemirror_mode": {
    "name": "ipython",
    "version": 3
   },
   "file_extension": ".py",
   "mimetype": "text/x-python",
   "name": "python",
   "nbconvert_exporter": "python",
   "pygments_lexer": "ipython3",
   "version": "3.5.4"
  }
 },
 "nbformat": 4,
 "nbformat_minor": 2
}
