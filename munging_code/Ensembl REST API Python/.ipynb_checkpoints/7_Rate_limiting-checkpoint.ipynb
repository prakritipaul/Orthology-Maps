{
 "cells": [
  {
   "cell_type": "markdown",
   "metadata": {},
   "source": [
    "# Rate limiting\n",
    "\n",
    "Requests are rate limited to prevent a single user from monopolising the resources.\n",
    "\n",
    "Response headers show we are allowed 55000 requests over an hour (3600 seconds): an average 15 requests per second.\n",
    "\n",
    "## Exercises 7\n",
    "\n",
    "1\\. Write a script to query the ping endpoint 25 times, for each loop iteration print the count, the HTTP Status Code, and the X-RateLimit-Remaining header. (Hint: Look at the [requests documentation](http://docs.python-requests.org/en/master/).)"
   ]
  },
  {
   "cell_type": "code",
   "execution_count": null,
   "metadata": {},
   "outputs": [],
   "source": [
    "# Exercise 7.1"
   ]
  },
  {
   "cell_type": "markdown",
   "metadata": {},
   "source": [
    "2\\. Do you notice anything odd with the count as the whole class is running their scripts? What happens to the status code if you increase the number of loops to 100?\n",
    "\n",
    "[Next page: Exercises 7 – answers](7_Rate_limiting_answers.ipynb)"
   ]
  }
 ],
 "metadata": {
  "kernelspec": {
   "display_name": "Python 3",
   "language": "python",
   "name": "python3"
  },
  "language_info": {
   "codemirror_mode": {
    "name": "ipython",
    "version": 3
   },
   "file_extension": ".py",
   "mimetype": "text/x-python",
   "name": "python",
   "nbconvert_exporter": "python",
   "pygments_lexer": "ipython3",
   "version": "3.5.4"
  }
 },
 "nbformat": 4,
 "nbformat_minor": 2
}
