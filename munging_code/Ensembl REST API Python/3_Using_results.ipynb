{
 "cells": [
  {
   "cell_type": "markdown",
   "metadata": {},
   "source": [
    "# Using results\n",
    "\n",
    "Since json is a dictionary, you can pull out a single datapoint using the key.\n",
    "\n",
    "```\n",
    "{\n",
    "  \"source\": \"ensembl_havana\",\n",
    "  \"object_type\": \"Gene\",\n",
    "  \"logic_name\": \"ensembl_havana_gene\",\n",
    "  \"version\": 12,\n",
    "  \"species\": \"homo_sapiens\",\n",
    "  \"description\": \"B-Raf proto-oncogene, serine/threonine kinase [Source:HGNC Symbol;Acc:HGNC:1097]\",\n",
    "  \"display_name\": \"BRAF\",\n",
    "  \"assembly_name\": \"GRCh38\",\n",
    "  \"biotype\": \"protein_coding\",\n",
    "  \"end\": 140924764,\n",
    "  \"seq_region_name\": \"7\",\n",
    "  \"db_type\": \"core\",\n",
    "  \"strand\": -1,\n",
    "  \"id\": \"ENSG00000157764\",\n",
    "  \"start\": 140719327\n",
    "}\n",
    "```\n",
    "\n",
    "We can add this to our previous script:"
   ]
  },
  {
   "cell_type": "code",
   "execution_count": null,
   "metadata": {},
   "outputs": [],
   "source": [
    "import requests, sys, json\n",
    "\n",
    "def fetch_endpoint(server, request, content_type):\n",
    "\n",
    "    r = requests.get(server+request, headers={ \"Content-Type\" : content_type})\n",
    "\n",
    "    if not r.ok:\n",
    "        r.raise_for_status()\n",
    "        sys.exit()\n",
    "\n",
    "    if content_type == 'application/json':\n",
    "        return r.json()\n",
    "    else:\n",
    "        return r.text\n",
    "\n",
    "\n",
    "server = \"http://rest.ensembl.org/\"\n",
    "ext = \"lookup/id/ENSG00000157764?\"\n",
    "con = \"application/json\"\n",
    "get_gene = fetch_endpoint(server, ext, con)\n",
    "\n",
    "symbol = get_gene['display_name']\n",
    "print (symbol)"
   ]
  },
  {
   "cell_type": "markdown",
   "metadata": {},
   "source": [
    "## Exercises 3\n",
    "\n",
    "1\\. Write a script to lookup the gene called IRAK4 in human and print the stable ID of this gene."
   ]
  },
  {
   "cell_type": "code",
   "execution_count": null,
   "metadata": {},
   "outputs": [],
   "source": [
    "# Exercise 3.1"
   ]
  },
  {
   "cell_type": "markdown",
   "metadata": {},
   "source": [
    "2\\. Get all variants that are associated with the phenotype 'Coffee consumption'. For each variant print\n",
    "   a. the p-value for the association\n",
    "   b. the PMID for the publication which describes the association between that variant and ‘Coffee consumption’\n",
    "   c. the risk allele and the associated gene."
   ]
  },
  {
   "cell_type": "code",
   "execution_count": null,
   "metadata": {},
   "outputs": [],
   "source": [
    "# Exercise 3.2"
   ]
  },
  {
   "cell_type": "markdown",
   "metadata": {},
   "source": [
    "3\\. Get the mouse homologue of the human BRCA2 and print the ID and sequence of both.\n",
    "\n",
    "Note that the JSON for the endpoint you need is several layers deep, containing nested lists (appear as square brackets [ ] in the JSON) and key value sets (dictionary; appear as curly brackets { } in the JSON)."
   ]
  },
  {
   "cell_type": "code",
   "execution_count": null,
   "metadata": {},
   "outputs": [],
   "source": [
    "# Exercise 3.3"
   ]
  },
  {
   "cell_type": "markdown",
   "metadata": {},
   "source": [
    "[Next page: Exercises 3 – answers](3_Using_results_answers.ipynb)"
   ]
  }
 ],
 "metadata": {
  "kernelspec": {
   "display_name": "Python 3",
   "language": "python",
   "name": "python3"
  },
  "language_info": {
   "codemirror_mode": {
    "name": "ipython",
    "version": 3
   },
   "file_extension": ".py",
   "mimetype": "text/x-python",
   "name": "python",
   "nbconvert_exporter": "python",
   "pygments_lexer": "ipython3",
   "version": "3.5.4"
  }
 },
 "nbformat": 4,
 "nbformat_minor": 2
}
