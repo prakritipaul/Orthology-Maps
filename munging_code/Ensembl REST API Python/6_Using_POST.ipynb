{
 "cells": [
  {
   "cell_type": "markdown",
   "metadata": {},
   "source": [
    "# Using POST\n",
    "\n",
    "POST allows you to run a query with multiple inputs at once. The output will be a dictionary of dictionaries."
   ]
  },
  {
   "cell_type": "code",
   "execution_count": null,
   "metadata": {},
   "outputs": [],
   "source": [
    "import requests, sys\n",
    "\n",
    "server = \"http://rest.ensembl.org\"\n",
    "ext = \"/lookup/id\"\n",
    "headers={ \"Content-Type\" : \"application/json\", \"Accept\" : \"application/json\"}\n",
    "r = requests.post(server+ext, headers=headers, data='{ \"ids\" : [\"ENSG00000157764\", \"ENSG00000248378\" ] }')\n",
    "\n",
    "# error checking removed for space\n",
    " \n",
    "decoded = r.json()\n",
    "print (decoded)"
   ]
  },
  {
   "cell_type": "markdown",
   "metadata": {},
   "source": [
    "There is a helper function in POST. You can specify both helper functions in your script and use whichever one you need."
   ]
  },
  {
   "cell_type": "code",
   "execution_count": null,
   "metadata": {},
   "outputs": [],
   "source": [
    "def fetch_endpoint_POST(server, request, data, content_type='application/json'):\n",
    "\n",
    "    r = requests.post(server+request,\n",
    "                      headers={ \"Content-Type\" : content_type},\n",
    "                      data=data )\n",
    "\n",
    "    if not r.ok:\n",
    "        r.raise_for_status()\n",
    "        sys.exit()\n",
    "\n",
    "    if content_type == 'application/json':\n",
    "        return r.json()\n",
    "    else:\n",
    "        return r.text"
   ]
  },
  {
   "cell_type": "markdown",
   "metadata": {},
   "source": [
    "### Input\n",
    "\n",
    "Your input list for POST queries need to be a JSON list. You can create this from a list in Python using the [JSON module](https://docs.python.org/3/library/json.html):\n",
    "\n",
    "        `data = json.dumps({ \"ids\" : my_list })`\n",
    "\n",
    "### Output\n",
    "\n",
    "The Output from POST queries will be a dictionary of dictionaries. To access items, you could use your input list as your keys, or you could move through the dictionary with:\n",
    "\n",
    "\t\t`for key, value in post_query.items():`\n",
    "\n",
    "## Exercises 6\n",
    "\n",
    "1\\. Fetch the all the transcripts of IRAK4 using the lookup function. Fetch the cDNA sequences of all transcripts using a single POST request, and print in FASTA format."
   ]
  },
  {
   "cell_type": "code",
   "execution_count": null,
   "metadata": {},
   "outputs": [],
   "source": [
    "# Exercise 6.1"
   ]
  },
  {
   "cell_type": "markdown",
   "metadata": {},
   "source": [
    "2\\. Get all variants that are located on chromosome 17 between 80348215 and 80348333. Get the variant class, evidence attributes, source and the most_severe_consequence for all variants in that region from the variant POST endpoint."
   ]
  },
  {
   "cell_type": "code",
   "execution_count": null,
   "metadata": {},
   "outputs": [],
   "source": [
    "# Exercise 6.2"
   ]
  },
  {
   "cell_type": "markdown",
   "metadata": {},
   "source": [
    "[Next page: Exercises 6 – answers](6_Using_POST_answers.ipynb)"
   ]
  }
 ],
 "metadata": {
  "kernelspec": {
   "display_name": "Python 3",
   "language": "python",
   "name": "python3"
  },
  "language_info": {
   "codemirror_mode": {
    "name": "ipython",
    "version": 3
   },
   "file_extension": ".py",
   "mimetype": "text/x-python",
   "name": "python",
   "nbconvert_exporter": "python",
   "pygments_lexer": "ipython3",
   "version": "3.5.4"
  }
 },
 "nbformat": 4,
 "nbformat_minor": 2
}
